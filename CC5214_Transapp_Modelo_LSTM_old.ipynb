{
 "cells": [
  {
   "cell_type": "markdown",
   "metadata": {
    "colab_type": "text",
    "id": "VU4ANuCJfQ0u"
   },
   "source": [
    "## Some imports"
   ]
  },
  {
   "cell_type": "code",
   "execution_count": 1,
   "metadata": {
    "colab": {},
    "colab_type": "code",
    "id": "GlBYXPrr40p_"
   },
   "outputs": [],
   "source": [
    "import pandas as pd\n",
    "import numpy as np\n",
    "import geopandas as gpd\n",
    "import matplotlib.pyplot as plt\n",
    "from shapely.geometry import Point, Polygon\n",
    "from datetime import datetime, timedelta"
   ]
  },
  {
   "cell_type": "markdown",
   "metadata": {
    "colab_type": "text",
    "id": "xgdD7BcLfVT0"
   },
   "source": [
    "## Creating Pandas Transapp DataFrames"
   ]
  },
  {
   "cell_type": "code",
   "execution_count": 2,
   "metadata": {
    "colab": {},
    "colab_type": "code",
    "id": "0Rz0zE8k6ZE6"
   },
   "outputs": [],
   "source": [
    "\"\"\"\n",
    "1. Patente\n",
    "2. Sonda (servicio interno que identifica recorrido de manera unica) (variantes)\n",
    "3. Servicio de Usuario (lo que ve el pasajero)\n",
    "4. Dia y hora (UTC). Ultimo dia de Abril y ultimo día de Mayo\n",
    "5. Latitud\n",
    "6. Longitud\n",
    "7. x (UTM)\n",
    "8. y (UTM)\n",
    "9. Distancia en Ruta (desde inicio hasta t)\n",
    "10. Distancia a la ruta (ortogonal a la polilinea)\n",
    "11. Velocidad instantanea (maquina del GPS del bus)\n",
    "12. Operador (codificacion empresa)\n",
    "13. Identificador de expedición (viaje de un lugar a otro)\n",
    "\"\"\"\n",
    "\n",
    "def create_gps(gps_name):\n",
    "    columns = [\"Patente\", \"GPS_COD_SINRUT\", \"idx_user\", \"Date\", \"LAT\", \"LON\", \"x_UTM\", \"y_UTM\", \"dist_rute\", \"dist_to_rute\", \"velocity\", \"idx_empresa\", \"idx_expedition\"]\n",
    "    # GPS Data\n",
    "    df_gps = pd.read_csv(gps_name,header=None,delimiter=\";\")\n",
    "    df_gps.columns = columns\n",
    "    df_gps.index = df_gps[\"Date\"]\n",
    "    df_gps.index = pd.to_datetime(df_gps.index)\n",
    "    return df_gps\n",
    "\n",
    "def create_dict(dict_name):\n",
    "    # Dictionary Data\n",
    "    df_dict = pd.read_csv(dict_name,delimiter=\";\",encoding='latin-1')\n",
    "    df_dict.index = df_dict[\"COD_SINRUT\"]\n",
    "    return df_dict\n",
    "\n",
    "def create_shape(shape_name):\n",
    "    # Shape Data\n",
    "    df_shape = pd.read_csv(shape_name,delimiter=\";\")\n",
    "    df_shape.index = df_shape[\"ROUTE_NAME\"]\n",
    "    return df_shape"
   ]
  },
  {
   "cell_type": "code",
   "execution_count": 3,
   "metadata": {},
   "outputs": [],
   "source": [
    "def extract_bus(bus_name, is_ida, df_dict, df_gps):\n",
    "    if is_ida:\n",
    "        cod_sr = df_dict[(df_dict['COD_USUARI'] == '315e') & (df_dict['Route_Name'].str.endswith('I'))][['Route_ID', 'Route_Name', 'COD_USUARI']]\n",
    "    else:\n",
    "        cod_sr = df_dict[(df_dict['COD_USUARI'] == '315e') & (df_dict['Route_Name'].str.endswith('R'))][['Route_ID', 'Route_Name', 'COD_USUARI']]\n",
    "    return df_gps.set_index('GPS_COD_SINRUT').join(cod_sr, how='right').set_index('Date').sort_values(by='Date')"
   ]
  },
  {
   "cell_type": "code",
   "execution_count": 4,
   "metadata": {
    "colab": {},
    "colab_type": "code",
    "id": "BpLmsRPfCCzw"
   },
   "outputs": [],
   "source": [
    "def filter_gps(df_gps, date, bus_shape, patente):\n",
    "    if patente == None:\n",
    "        return df_gps[(df_gps[\"Date\"].str.contains(date)) & (df_gps[\"idx_user\"] == bus_shape) ]\n",
    "    else:\n",
    "        return df_gps[(df_gps[\"Date\"].str.contains(date)) & (df_gps[\"idx_user\"] == bus_shape) & (df_gps[\"Patente\"] == patente) ]"
   ]
  },
  {
   "cell_type": "markdown",
   "metadata": {
    "colab_type": "text",
    "id": "XUuYGBBECZ8Y"
   },
   "source": [
    "## Create DataFrames"
   ]
  },
  {
   "cell_type": "code",
   "execution_count": 5,
   "metadata": {
    "colab": {},
    "colab_type": "code",
    "id": "GN9CD8yEF3xW"
   },
   "outputs": [],
   "source": [
    "# Parameters to filter\n",
    "date = \"2019-05-02\"\n",
    "bus_name = '315e'\n",
    "ida = True\n",
    "threshold_to_route = 100"
   ]
  },
  {
   "cell_type": "code",
   "execution_count": 6,
   "metadata": {
    "colab": {},
    "colab_type": "code",
    "id": "OIt7FdV8BTjh"
   },
   "outputs": [],
   "source": [
    "# Load Data\n",
    "df_data = create_gps(\"./data/{}.gps\".format(date))\n",
    "df_dict = create_dict(\"./data/2019-04-Diccionario_Servicios.csv\")\n",
    "df_shape = create_shape(\"./data/2019-04-ShapeRutas.csv\")"
   ]
  },
  {
   "cell_type": "code",
   "execution_count": 7,
   "metadata": {},
   "outputs": [
    {
     "data": {
      "text/html": [
       "<div>\n",
       "<style scoped>\n",
       "    .dataframe tbody tr th:only-of-type {\n",
       "        vertical-align: middle;\n",
       "    }\n",
       "\n",
       "    .dataframe tbody tr th {\n",
       "        vertical-align: top;\n",
       "    }\n",
       "\n",
       "    .dataframe thead th {\n",
       "        text-align: right;\n",
       "    }\n",
       "</style>\n",
       "<table border=\"1\" class=\"dataframe\">\n",
       "  <thead>\n",
       "    <tr style=\"text-align: right;\">\n",
       "      <th></th>\n",
       "      <th>Patente</th>\n",
       "      <th>idx_user</th>\n",
       "      <th>LAT</th>\n",
       "      <th>LON</th>\n",
       "      <th>x_UTM</th>\n",
       "      <th>y_UTM</th>\n",
       "      <th>dist_rute</th>\n",
       "      <th>dist_to_rute</th>\n",
       "      <th>velocity</th>\n",
       "      <th>idx_empresa</th>\n",
       "      <th>idx_expedition</th>\n",
       "      <th>Route_ID</th>\n",
       "      <th>Route_Name</th>\n",
       "      <th>COD_USUARI</th>\n",
       "    </tr>\n",
       "    <tr>\n",
       "      <th>Date</th>\n",
       "      <th></th>\n",
       "      <th></th>\n",
       "      <th></th>\n",
       "      <th></th>\n",
       "      <th></th>\n",
       "      <th></th>\n",
       "      <th></th>\n",
       "      <th></th>\n",
       "      <th></th>\n",
       "      <th></th>\n",
       "      <th></th>\n",
       "      <th></th>\n",
       "      <th></th>\n",
       "      <th></th>\n",
       "    </tr>\n",
       "  </thead>\n",
       "  <tbody>\n",
       "    <tr>\n",
       "      <th>2019-05-01 23:57:54</th>\n",
       "      <td>CJRB12</td>\n",
       "      <td>315eI</td>\n",
       "      <td>-33.385679</td>\n",
       "      <td>-70.691641</td>\n",
       "      <td>342656</td>\n",
       "      <td>6304677</td>\n",
       "      <td>13052</td>\n",
       "      <td>3</td>\n",
       "      <td>45</td>\n",
       "      <td>16</td>\n",
       "      <td>62</td>\n",
       "      <td>9183</td>\n",
       "      <td>315eI</td>\n",
       "      <td>315e</td>\n",
       "    </tr>\n",
       "    <tr>\n",
       "      <th>2019-05-01 23:57:57</th>\n",
       "      <td>FLXH99</td>\n",
       "      <td>315eI</td>\n",
       "      <td>-33.363410</td>\n",
       "      <td>-70.766278</td>\n",
       "      <td>335671</td>\n",
       "      <td>6307031</td>\n",
       "      <td>0</td>\n",
       "      <td>59</td>\n",
       "      <td>0</td>\n",
       "      <td>16</td>\n",
       "      <td>95</td>\n",
       "      <td>9183</td>\n",
       "      <td>315eI</td>\n",
       "      <td>315e</td>\n",
       "    </tr>\n",
       "    <tr>\n",
       "      <th>2019-05-01 23:58:01</th>\n",
       "      <td>FLXH94</td>\n",
       "      <td>315eI</td>\n",
       "      <td>-33.363583</td>\n",
       "      <td>-70.766153</td>\n",
       "      <td>335683</td>\n",
       "      <td>6307012</td>\n",
       "      <td>0</td>\n",
       "      <td>37</td>\n",
       "      <td>0</td>\n",
       "      <td>16</td>\n",
       "      <td>72</td>\n",
       "      <td>9183</td>\n",
       "      <td>315eI</td>\n",
       "      <td>315e</td>\n",
       "    </tr>\n",
       "    <tr>\n",
       "      <th>2019-05-01 23:58:07</th>\n",
       "      <td>FLXH10</td>\n",
       "      <td>315eI</td>\n",
       "      <td>-33.370171</td>\n",
       "      <td>-70.698638</td>\n",
       "      <td>341977</td>\n",
       "      <td>6306386</td>\n",
       "      <td>11213</td>\n",
       "      <td>1</td>\n",
       "      <td>48</td>\n",
       "      <td>16</td>\n",
       "      <td>111</td>\n",
       "      <td>9183</td>\n",
       "      <td>315eI</td>\n",
       "      <td>315e</td>\n",
       "    </tr>\n",
       "    <tr>\n",
       "      <th>2019-05-01 23:58:11</th>\n",
       "      <td>FLXH14</td>\n",
       "      <td>315eI</td>\n",
       "      <td>-33.355752</td>\n",
       "      <td>-70.738904</td>\n",
       "      <td>338204</td>\n",
       "      <td>6307923</td>\n",
       "      <td>3637</td>\n",
       "      <td>0</td>\n",
       "      <td>40</td>\n",
       "      <td>16</td>\n",
       "      <td>97</td>\n",
       "      <td>9183</td>\n",
       "      <td>315eI</td>\n",
       "      <td>315e</td>\n",
       "    </tr>\n",
       "  </tbody>\n",
       "</table>\n",
       "</div>"
      ],
      "text/plain": [
       "                    Patente idx_user        LAT        LON   x_UTM    y_UTM  \\\n",
       "Date                                                                          \n",
       "2019-05-01 23:57:54  CJRB12    315eI -33.385679 -70.691641  342656  6304677   \n",
       "2019-05-01 23:57:57  FLXH99    315eI -33.363410 -70.766278  335671  6307031   \n",
       "2019-05-01 23:58:01  FLXH94    315eI -33.363583 -70.766153  335683  6307012   \n",
       "2019-05-01 23:58:07  FLXH10    315eI -33.370171 -70.698638  341977  6306386   \n",
       "2019-05-01 23:58:11  FLXH14    315eI -33.355752 -70.738904  338204  6307923   \n",
       "\n",
       "                     dist_rute  dist_to_rute  velocity  idx_empresa  \\\n",
       "Date                                                                  \n",
       "2019-05-01 23:57:54      13052             3        45           16   \n",
       "2019-05-01 23:57:57          0            59         0           16   \n",
       "2019-05-01 23:58:01          0            37         0           16   \n",
       "2019-05-01 23:58:07      11213             1        48           16   \n",
       "2019-05-01 23:58:11       3637             0        40           16   \n",
       "\n",
       "                     idx_expedition  Route_ID Route_Name COD_USUARI  \n",
       "Date                                                                 \n",
       "2019-05-01 23:57:54              62      9183      315eI       315e  \n",
       "2019-05-01 23:57:57              95      9183      315eI       315e  \n",
       "2019-05-01 23:58:01              72      9183      315eI       315e  \n",
       "2019-05-01 23:58:07             111      9183      315eI       315e  \n",
       "2019-05-01 23:58:11              97      9183      315eI       315e  "
      ]
     },
     "execution_count": 7,
     "metadata": {},
     "output_type": "execute_result"
    }
   ],
   "source": [
    "# Select bus\n",
    "df_gps = extract_bus(bus_name, ida, df_dict, df_data) \n",
    "df_gps.head()"
   ]
  },
  {
   "cell_type": "markdown",
   "metadata": {
    "colab_type": "text",
    "id": "V2ea9ivdH6bX"
   },
   "source": [
    "# Algorithm"
   ]
  },
  {
   "cell_type": "code",
   "execution_count": 8,
   "metadata": {
    "colab": {},
    "colab_type": "code",
    "id": "4m_0FPH77JdU"
   },
   "outputs": [],
   "source": [
    "columns_filter = [\"Patente\",\"x_UTM\",\"y_UTM\",\"velocity\",\"dist_rute\"]\n",
    "bus_idx = df_gps['idx_user'].unique()[0]"
   ]
  },
  {
   "cell_type": "markdown",
   "metadata": {
    "colab_type": "text",
    "id": "wGhf1xZfH8FC"
   },
   "source": [
    "## First step: Sample points"
   ]
  },
  {
   "cell_type": "code",
   "execution_count": 9,
   "metadata": {
    "colab": {
     "base_uri": "https://localhost:8080/",
     "height": 34
    },
    "colab_type": "code",
    "id": "0ocd_h8VK1iy",
    "outputId": "9948b696-ce3b-47fb-f595-da3c6f1862be"
   },
   "outputs": [
    {
     "name": "stdout",
     "output_type": "stream",
     "text": [
      "Number of samples: 300\n"
     ]
    },
    {
     "data": {
      "text/html": [
       "<div>\n",
       "<style scoped>\n",
       "    .dataframe tbody tr th:only-of-type {\n",
       "        vertical-align: middle;\n",
       "    }\n",
       "\n",
       "    .dataframe tbody tr th {\n",
       "        vertical-align: top;\n",
       "    }\n",
       "\n",
       "    .dataframe thead th {\n",
       "        text-align: right;\n",
       "    }\n",
       "</style>\n",
       "<table border=\"1\" class=\"dataframe\">\n",
       "  <thead>\n",
       "    <tr style=\"text-align: right;\">\n",
       "      <th></th>\n",
       "      <th>X-Coordinate</th>\n",
       "      <th>Y-Coordinate</th>\n",
       "    </tr>\n",
       "  </thead>\n",
       "  <tbody>\n",
       "    <tr>\n",
       "      <th>0</th>\n",
       "      <td>339514</td>\n",
       "      <td>6308173</td>\n",
       "    </tr>\n",
       "    <tr>\n",
       "      <th>1</th>\n",
       "      <td>337518</td>\n",
       "      <td>6307381</td>\n",
       "    </tr>\n",
       "    <tr>\n",
       "      <th>2</th>\n",
       "      <td>345569</td>\n",
       "      <td>6299577</td>\n",
       "    </tr>\n",
       "    <tr>\n",
       "      <th>3</th>\n",
       "      <td>345469</td>\n",
       "      <td>6299729</td>\n",
       "    </tr>\n",
       "    <tr>\n",
       "      <th>4</th>\n",
       "      <td>339843</td>\n",
       "      <td>6308095</td>\n",
       "    </tr>\n",
       "  </tbody>\n",
       "</table>\n",
       "</div>"
      ],
      "text/plain": [
       "   X-Coordinate  Y-Coordinate\n",
       "0        339514       6308173\n",
       "1        337518       6307381\n",
       "2        345569       6299577\n",
       "3        345469       6299729\n",
       "4        339843       6308095"
      ]
     },
     "execution_count": 9,
     "metadata": {},
     "output_type": "execute_result"
    }
   ],
   "source": [
    "# Number of samples\n",
    "n_samples = 300\n",
    "n_samples = min(len(df_shape.loc[bus_idx]), n_samples)\n",
    "\n",
    "sample_points = df_shape.loc[bus_idx].sample(n_samples,replace=True)[[\"X-Coordinate\", \"Y-Coordinate\"]].reset_index().drop('ROUTE_NAME',axis=1)\n",
    "print('Number of samples:', sample_points.shape[0])\n",
    "sample_points.head()"
   ]
  },
  {
   "cell_type": "markdown",
   "metadata": {
    "colab_type": "text",
    "id": "76Z0clwwH--s"
   },
   "source": [
    "## Second step: Search buses in sample points"
   ]
  },
  {
   "cell_type": "code",
   "execution_count": 10,
   "metadata": {
    "colab": {},
    "colab_type": "code",
    "id": "SjYVjk86SNIU"
   },
   "outputs": [
    {
     "name": "stdout",
     "output_type": "stream",
     "text": [
      "Buses in sample points: 298\n",
      "Number of samples left: 298\n"
     ]
    }
   ],
   "source": [
    "# Search buses which goes through sample points\n",
    "buses_sample_points = []\n",
    "for i, sample in sample_points.iterrows():\n",
    "    epsilon = 0.1\n",
    "    df_epsilon = df_gps[(df_gps[\"x_UTM\"] - sample[0] <= epsilon) & (df_gps[\"y_UTM\"] - sample[1] <= epsilon)]\n",
    "    if(df_epsilon.empty):\n",
    "        sample_points.drop(i, inplace=True)\n",
    "        continue\n",
    "    #while(df_epsilon.empty):\n",
    "    #    epsilon *= 10\n",
    "    #    df_epsilon = df_gps[(df_gps[\"x_UTM\"] - sample[0] <= epsilon) & (df_gps[\"y_UTM\"] - sample[1] <= epsilon)]\n",
    "    buses_sample_points.append(df_epsilon)\n",
    "print('Buses in sample points:', len(buses_sample_points))\n",
    "print('Number of samples left:', sample_points.shape[0])"
   ]
  },
  {
   "cell_type": "code",
   "execution_count": 11,
   "metadata": {},
   "outputs": [],
   "source": [
    "buses_patentes_points = [buses_point.set_index(['Patente', buses_point.index]).sort_index() for buses_point in buses_sample_points]"
   ]
  },
  {
   "cell_type": "code",
   "execution_count": 12,
   "metadata": {},
   "outputs": [
    {
     "name": "stdout",
     "output_type": "stream",
     "text": [
      "298\n"
     ]
    },
    {
     "data": {
      "text/html": [
       "<div>\n",
       "<style scoped>\n",
       "    .dataframe tbody tr th:only-of-type {\n",
       "        vertical-align: middle;\n",
       "    }\n",
       "\n",
       "    .dataframe tbody tr th {\n",
       "        vertical-align: top;\n",
       "    }\n",
       "\n",
       "    .dataframe thead th {\n",
       "        text-align: right;\n",
       "    }\n",
       "</style>\n",
       "<table border=\"1\" class=\"dataframe\">\n",
       "  <thead>\n",
       "    <tr style=\"text-align: right;\">\n",
       "      <th></th>\n",
       "      <th></th>\n",
       "      <th>idx_user</th>\n",
       "      <th>LAT</th>\n",
       "      <th>LON</th>\n",
       "      <th>x_UTM</th>\n",
       "      <th>y_UTM</th>\n",
       "      <th>dist_rute</th>\n",
       "      <th>dist_to_rute</th>\n",
       "      <th>velocity</th>\n",
       "      <th>idx_empresa</th>\n",
       "      <th>idx_expedition</th>\n",
       "      <th>Route_ID</th>\n",
       "      <th>Route_Name</th>\n",
       "      <th>COD_USUARI</th>\n",
       "    </tr>\n",
       "    <tr>\n",
       "      <th>Patente</th>\n",
       "      <th>Date</th>\n",
       "      <th></th>\n",
       "      <th></th>\n",
       "      <th></th>\n",
       "      <th></th>\n",
       "      <th></th>\n",
       "      <th></th>\n",
       "      <th></th>\n",
       "      <th></th>\n",
       "      <th></th>\n",
       "      <th></th>\n",
       "      <th></th>\n",
       "      <th></th>\n",
       "      <th></th>\n",
       "    </tr>\n",
       "  </thead>\n",
       "  <tbody>\n",
       "    <tr>\n",
       "      <th rowspan=\"5\" valign=\"top\">BJFR16</th>\n",
       "      <th>2019-05-02 16:47:13</th>\n",
       "      <td>315eI</td>\n",
       "      <td>-33.362486</td>\n",
       "      <td>-70.766550</td>\n",
       "      <td>335644</td>\n",
       "      <td>6307133</td>\n",
       "      <td>0</td>\n",
       "      <td>164</td>\n",
       "      <td>0</td>\n",
       "      <td>16</td>\n",
       "      <td>75</td>\n",
       "      <td>9183</td>\n",
       "      <td>315eI</td>\n",
       "      <td>315e</td>\n",
       "    </tr>\n",
       "    <tr>\n",
       "      <th>2019-05-02 16:47:43</th>\n",
       "      <td>315eI</td>\n",
       "      <td>-33.362486</td>\n",
       "      <td>-70.766550</td>\n",
       "      <td>335644</td>\n",
       "      <td>6307133</td>\n",
       "      <td>0</td>\n",
       "      <td>164</td>\n",
       "      <td>0</td>\n",
       "      <td>16</td>\n",
       "      <td>75</td>\n",
       "      <td>9183</td>\n",
       "      <td>315eI</td>\n",
       "      <td>315e</td>\n",
       "    </tr>\n",
       "    <tr>\n",
       "      <th>2019-05-02 16:48:13</th>\n",
       "      <td>315eI</td>\n",
       "      <td>-33.362486</td>\n",
       "      <td>-70.766550</td>\n",
       "      <td>335644</td>\n",
       "      <td>6307133</td>\n",
       "      <td>0</td>\n",
       "      <td>164</td>\n",
       "      <td>0</td>\n",
       "      <td>16</td>\n",
       "      <td>75</td>\n",
       "      <td>9183</td>\n",
       "      <td>315eI</td>\n",
       "      <td>315e</td>\n",
       "    </tr>\n",
       "    <tr>\n",
       "      <th>2019-05-02 16:48:43</th>\n",
       "      <td>315eI</td>\n",
       "      <td>-33.362639</td>\n",
       "      <td>-70.766596</td>\n",
       "      <td>335640</td>\n",
       "      <td>6307116</td>\n",
       "      <td>0</td>\n",
       "      <td>149</td>\n",
       "      <td>13</td>\n",
       "      <td>16</td>\n",
       "      <td>75</td>\n",
       "      <td>9183</td>\n",
       "      <td>315eI</td>\n",
       "      <td>315e</td>\n",
       "    </tr>\n",
       "    <tr>\n",
       "      <th>2019-05-02 16:49:13</th>\n",
       "      <td>315eI</td>\n",
       "      <td>-33.363313</td>\n",
       "      <td>-70.766094</td>\n",
       "      <td>335688</td>\n",
       "      <td>6307042</td>\n",
       "      <td>9</td>\n",
       "      <td>65</td>\n",
       "      <td>6</td>\n",
       "      <td>16</td>\n",
       "      <td>75</td>\n",
       "      <td>9183</td>\n",
       "      <td>315eI</td>\n",
       "      <td>315e</td>\n",
       "    </tr>\n",
       "    <tr>\n",
       "      <th>...</th>\n",
       "      <th>...</th>\n",
       "      <td>...</td>\n",
       "      <td>...</td>\n",
       "      <td>...</td>\n",
       "      <td>...</td>\n",
       "      <td>...</td>\n",
       "      <td>...</td>\n",
       "      <td>...</td>\n",
       "      <td>...</td>\n",
       "      <td>...</td>\n",
       "      <td>...</td>\n",
       "      <td>...</td>\n",
       "      <td>...</td>\n",
       "      <td>...</td>\n",
       "    </tr>\n",
       "    <tr>\n",
       "      <th rowspan=\"5\" valign=\"top\">FLXT92</th>\n",
       "      <th>2019-05-02 11:49:14</th>\n",
       "      <td>315eI</td>\n",
       "      <td>-33.356923</td>\n",
       "      <td>-70.729330</td>\n",
       "      <td>339097</td>\n",
       "      <td>6307808</td>\n",
       "      <td>5338</td>\n",
       "      <td>3</td>\n",
       "      <td>13</td>\n",
       "      <td>16</td>\n",
       "      <td>80</td>\n",
       "      <td>9183</td>\n",
       "      <td>315eI</td>\n",
       "      <td>315e</td>\n",
       "    </tr>\n",
       "    <tr>\n",
       "      <th>2019-05-02 11:49:44</th>\n",
       "      <td>315eI</td>\n",
       "      <td>-33.356681</td>\n",
       "      <td>-70.729186</td>\n",
       "      <td>339110</td>\n",
       "      <td>6307835</td>\n",
       "      <td>5387</td>\n",
       "      <td>3</td>\n",
       "      <td>23</td>\n",
       "      <td>16</td>\n",
       "      <td>80</td>\n",
       "      <td>9183</td>\n",
       "      <td>315eI</td>\n",
       "      <td>315e</td>\n",
       "    </tr>\n",
       "    <tr>\n",
       "      <th>2019-05-02 11:50:14</th>\n",
       "      <td>315eI</td>\n",
       "      <td>-33.355961</td>\n",
       "      <td>-70.729118</td>\n",
       "      <td>339115</td>\n",
       "      <td>6307915</td>\n",
       "      <td>5468</td>\n",
       "      <td>0</td>\n",
       "      <td>0</td>\n",
       "      <td>16</td>\n",
       "      <td>80</td>\n",
       "      <td>9183</td>\n",
       "      <td>315eI</td>\n",
       "      <td>315e</td>\n",
       "    </tr>\n",
       "    <tr>\n",
       "      <th>2019-05-02 11:50:44</th>\n",
       "      <td>315eI</td>\n",
       "      <td>-33.355961</td>\n",
       "      <td>-70.729118</td>\n",
       "      <td>339115</td>\n",
       "      <td>6307915</td>\n",
       "      <td>5468</td>\n",
       "      <td>0</td>\n",
       "      <td>0</td>\n",
       "      <td>16</td>\n",
       "      <td>80</td>\n",
       "      <td>9183</td>\n",
       "      <td>315eI</td>\n",
       "      <td>315e</td>\n",
       "    </tr>\n",
       "    <tr>\n",
       "      <th>2019-05-02 11:52:44</th>\n",
       "      <td>315eI</td>\n",
       "      <td>-33.353699</td>\n",
       "      <td>-70.725130</td>\n",
       "      <td>339482</td>\n",
       "      <td>6308172</td>\n",
       "      <td>6188</td>\n",
       "      <td>3</td>\n",
       "      <td>0</td>\n",
       "      <td>16</td>\n",
       "      <td>80</td>\n",
       "      <td>9183</td>\n",
       "      <td>315eI</td>\n",
       "      <td>315e</td>\n",
       "    </tr>\n",
       "  </tbody>\n",
       "</table>\n",
       "<p>7057 rows × 13 columns</p>\n",
       "</div>"
      ],
      "text/plain": [
       "                            idx_user        LAT        LON   x_UTM    y_UTM  \\\n",
       "Patente Date                                                                  \n",
       "BJFR16  2019-05-02 16:47:13    315eI -33.362486 -70.766550  335644  6307133   \n",
       "        2019-05-02 16:47:43    315eI -33.362486 -70.766550  335644  6307133   \n",
       "        2019-05-02 16:48:13    315eI -33.362486 -70.766550  335644  6307133   \n",
       "        2019-05-02 16:48:43    315eI -33.362639 -70.766596  335640  6307116   \n",
       "        2019-05-02 16:49:13    315eI -33.363313 -70.766094  335688  6307042   \n",
       "...                              ...        ...        ...     ...      ...   \n",
       "FLXT92  2019-05-02 11:49:14    315eI -33.356923 -70.729330  339097  6307808   \n",
       "        2019-05-02 11:49:44    315eI -33.356681 -70.729186  339110  6307835   \n",
       "        2019-05-02 11:50:14    315eI -33.355961 -70.729118  339115  6307915   \n",
       "        2019-05-02 11:50:44    315eI -33.355961 -70.729118  339115  6307915   \n",
       "        2019-05-02 11:52:44    315eI -33.353699 -70.725130  339482  6308172   \n",
       "\n",
       "                             dist_rute  dist_to_rute  velocity  idx_empresa  \\\n",
       "Patente Date                                                                  \n",
       "BJFR16  2019-05-02 16:47:13          0           164         0           16   \n",
       "        2019-05-02 16:47:43          0           164         0           16   \n",
       "        2019-05-02 16:48:13          0           164         0           16   \n",
       "        2019-05-02 16:48:43          0           149        13           16   \n",
       "        2019-05-02 16:49:13          9            65         6           16   \n",
       "...                                ...           ...       ...          ...   \n",
       "FLXT92  2019-05-02 11:49:14       5338             3        13           16   \n",
       "        2019-05-02 11:49:44       5387             3        23           16   \n",
       "        2019-05-02 11:50:14       5468             0         0           16   \n",
       "        2019-05-02 11:50:44       5468             0         0           16   \n",
       "        2019-05-02 11:52:44       6188             3         0           16   \n",
       "\n",
       "                             idx_expedition  Route_ID Route_Name COD_USUARI  \n",
       "Patente Date                                                                 \n",
       "BJFR16  2019-05-02 16:47:13              75      9183      315eI       315e  \n",
       "        2019-05-02 16:47:43              75      9183      315eI       315e  \n",
       "        2019-05-02 16:48:13              75      9183      315eI       315e  \n",
       "        2019-05-02 16:48:43              75      9183      315eI       315e  \n",
       "        2019-05-02 16:49:13              75      9183      315eI       315e  \n",
       "...                                     ...       ...        ...        ...  \n",
       "FLXT92  2019-05-02 11:49:14              80      9183      315eI       315e  \n",
       "        2019-05-02 11:49:44              80      9183      315eI       315e  \n",
       "        2019-05-02 11:50:14              80      9183      315eI       315e  \n",
       "        2019-05-02 11:50:44              80      9183      315eI       315e  \n",
       "        2019-05-02 11:52:44              80      9183      315eI       315e  \n",
       "\n",
       "[7057 rows x 13 columns]"
      ]
     },
     "execution_count": 12,
     "metadata": {},
     "output_type": "execute_result"
    }
   ],
   "source": [
    "print(len(buses_patentes_points))\n",
    "buses_patentes_points[0]"
   ]
  },
  {
   "cell_type": "markdown",
   "metadata": {
    "colab_type": "text",
    "id": "5A1BP52dIA4j"
   },
   "source": [
    "## Third step: Create dist_point and target_time"
   ]
  },
  {
   "cell_type": "code",
   "execution_count": 13,
   "metadata": {
    "colab": {},
    "colab_type": "code",
    "id": "jqEGX83A31Qs"
   },
   "outputs": [],
   "source": [
    "import numpy.linalg\n",
    "import time\n",
    "from tqdm.notebook import tqdm"
   ]
  },
  {
   "cell_type": "code",
   "execution_count": 14,
   "metadata": {
    "colab": {
     "base_uri": "https://localhost:8080/",
     "height": 34
    },
    "colab_type": "code",
    "id": "SDHmbZWN801a",
    "outputId": "eaaf3480-c1d8-4ca5-fa5f-bbff944f74ca",
    "scrolled": false
   },
   "outputs": [
    {
     "data": {
      "application/vnd.jupyter.widget-view+json": {
       "model_id": "da9b2093f3904832a022b2fefa9a68e6",
       "version_major": 2,
       "version_minor": 0
      },
      "text/plain": [
       "HBox(children=(IntProgress(value=1, bar_style='info', max=1), HTML(value='')))"
      ]
     },
     "metadata": {},
     "output_type": "display_data"
    },
    {
     "name": "stderr",
     "output_type": "stream",
     "text": [
      "/usr/local/lib/python3.6/dist-packages/ipykernel_launcher.py:17: SettingWithCopyWarning: \n",
      "A value is trying to be set on a copy of a slice from a DataFrame.\n",
      "Try using .loc[row_indexer,col_indexer] = value instead\n",
      "\n",
      "See the caveats in the documentation: http://pandas.pydata.org/pandas-docs/stable/user_guide/indexing.html#returning-a-view-versus-a-copy\n",
      "/usr/local/lib/python3.6/dist-packages/ipykernel_launcher.py:24: SettingWithCopyWarning: \n",
      "A value is trying to be set on a copy of a slice from a DataFrame.\n",
      "Try using .loc[row_indexer,col_indexer] = value instead\n",
      "\n",
      "See the caveats in the documentation: http://pandas.pydata.org/pandas-docs/stable/user_guide/indexing.html#returning-a-view-versus-a-copy\n",
      "/usr/local/lib/python3.6/dist-packages/ipykernel_launcher.py:28: SettingWithCopyWarning: \n",
      "A value is trying to be set on a copy of a slice from a DataFrame.\n",
      "Try using .loc[row_indexer,col_indexer] = value instead\n",
      "\n",
      "See the caveats in the documentation: http://pandas.pydata.org/pandas-docs/stable/user_guide/indexing.html#returning-a-view-versus-a-copy\n"
     ]
    },
    {
     "name": "stdout",
     "output_type": "stream",
     "text": [
      "\n",
      "414.9574990272522\n"
     ]
    }
   ],
   "source": [
    "# Select number of min counts for every travel\n",
    "n_min_travel = 20\n",
    "\n",
    "start_time = time.time()\n",
    "\n",
    "buses_expeditions = []\n",
    "# For every point and buses that arrive to point \n",
    "for point, buses_point in tqdm(zip(sample_points.values, buses_patentes_points)):\n",
    "    #buses_expeditions = []\n",
    "    # For every expedition\n",
    "    for idx_exp in buses_point['idx_expedition'].unique():\n",
    "        patentes_expedition = buses_point[buses_point['idx_expedition'] == idx_exp].index.get_level_values(0).unique()\n",
    "        # For every patent\n",
    "        for patente in patentes_expedition:\n",
    "            expedition = df_gps[(df_gps['idx_expedition'] == idx_exp) & (df_gps['Patente'] == patente)]\n",
    "            bus_point = buses_point[(buses_point['idx_expedition'] == idx_exp) & (buses_point.index.get_level_values(0) == patente)]\n",
    "            bus_point[\"dist_point\"] = np.linalg.norm(bus_point[[\"x_UTM\",\"y_UTM\"]].values - point, axis=1)\n",
    "            end_time_expedition = bus_point['dist_point'].idxmin()[1]\n",
    "            expedition_end = expedition[expedition.index.get_level_values(0) <= end_time_expedition]\n",
    "            # Check if n_min\n",
    "            if expedition_end.shape[0] <= n_min_travel:\n",
    "                continue\n",
    "            # Distance Polyline\n",
    "            expedition_end[\"dist_target\"] = abs(expedition_end['dist_rute'].iloc[-1] - expedition_end['dist_rute'])\n",
    "\n",
    "            # Create target time in seconds\n",
    "            target = [((pd.to_datetime(expedition_end.index.get_level_values(0)[-1]) - pd.to_datetime(start_time)).seconds//60)%60 for start_time in expedition_end.index.get_level_values(0)]\n",
    "            expedition_end[\"target_time\"] = target\n",
    "\n",
    "            if (not expedition_end['target_time'].is_monotonic_decreasing) or (not expedition_end['dist_target'].is_monotonic_decreasing):\n",
    "                continue\n",
    "\n",
    "            if (len(expedition_end)==0):\n",
    "                continue\n",
    "                \n",
    "            buses_expeditions.append(expedition_end)\n",
    "    #buses_dist_target.append(buses_expeditions)\n",
    "print(time.time() - start_time)"
   ]
  },
  {
   "cell_type": "markdown",
   "metadata": {
    "colab_type": "text",
    "id": "tCC528iF-I00"
   },
   "source": [
    "# Retrieve and split data for model"
   ]
  },
  {
   "cell_type": "code",
   "execution_count": 15,
   "metadata": {
    "colab": {
     "base_uri": "https://localhost:8080/",
     "height": 72
    },
    "colab_type": "code",
    "id": "qRJKX2qU_KJ2",
    "outputId": "eacf35f3-480a-46c9-8f83-1d15f27d5657"
   },
   "outputs": [
    {
     "name": "stderr",
     "output_type": "stream",
     "text": [
      "/home/camilojd/.local/lib/python3.6/site-packages/sklearn/externals/joblib/__init__.py:15: DeprecationWarning: sklearn.externals.joblib is deprecated in 0.21 and will be removed in 0.23. Please import this functionality directly from joblib, which can be installed with: pip install joblib. If this warning is raised when loading pickled models, you may need to re-serialize those models with scikit-learn 0.21+.\n",
      "  warnings.warn(msg, category=DeprecationWarning)\n"
     ]
    }
   ],
   "source": [
    "from sklearn.model_selection import train_test_split\n",
    "from sklearn.preprocessing import MinMaxScaler\n",
    "from sklearn.externals import joblib"
   ]
  },
  {
   "cell_type": "code",
   "execution_count": 16,
   "metadata": {
    "colab": {},
    "colab_type": "code",
    "id": "ygM4rvfA3BqD"
   },
   "outputs": [],
   "source": [
    "# Normalize\n",
    "norm = True\n",
    "scaler_filename = \"scaler_LSTM.save\"\n",
    "\n",
    "# Select Data\n",
    "columns = [\"x_UTM\",\"y_UTM\",\"velocity\",\"dist_target\",\"target_time\"]\n",
    "df_data = pd.concat(buses_expeditions)[columns]\n",
    "\n",
    "# Separate data in features and targets\n",
    "X = df_data[columns[:-1]]\n",
    "y = df_data[columns[-1]]\n",
    "\n",
    "# Split Train and Test\n",
    "X_train, X_testval, y_train, y_testval = train_test_split(X, y, test_size=0.33, random_state=42)\n",
    "X_val, X_test, y_val, y_test = train_test_split(X_testval, y_testval, test_size=0.66, random_state=42)\n",
    "\n",
    "# Fix dimentions\n",
    "y_train = np.expand_dims(y_train,1)\n",
    "y_val = np.expand_dims(y_val,1)\n",
    "y_test = np.expand_dims(y_test,1)\n",
    "\n",
    "# Scale data\n",
    "if norm:\n",
    "    scaler_x = MinMaxScaler()\n",
    "    X_train = scaler_x.fit_transform(X_train)\n",
    "    X_val = scaler_x.transform(X_val)\n",
    "    X_test = scaler_x.transform(X_test)\n",
    "\n",
    "    # Save Scaler\n",
    "    joblib.dump(scaler_x, scaler_filename) \n",
    "  "
   ]
  },
  {
   "cell_type": "code",
   "execution_count": 17,
   "metadata": {
    "colab": {
     "base_uri": "https://localhost:8080/",
     "height": 69
    },
    "colab_type": "code",
    "id": "eqeZ7uk8kMma",
    "outputId": "be77dccd-33e3-40ed-ebea-6d7d686f2339"
   },
   "outputs": [
    {
     "name": "stdout",
     "output_type": "stream",
     "text": [
      "train_X (491193, 1, 4)\n",
      "val_X (82256, 1, 4)\n",
      "test_X (159675, 1, 4)\n"
     ]
    }
   ],
   "source": [
    "train_X = X_train.reshape((X_train.shape[0], 1, X_train.shape[1]))\n",
    "val_X = X_val.reshape((X_val.shape[0], 1, X_val.shape[1]))\n",
    "test_X = X_test.reshape((X_test.shape[0], 1, X_test.shape[1]))\n",
    "\n",
    "\n",
    "print(\"train_X\",train_X.shape)\n",
    "print(\"val_X\",val_X.shape)\n",
    "print(\"test_X\",test_X.shape)\n"
   ]
  },
  {
   "cell_type": "code",
   "execution_count": 18,
   "metadata": {
    "colab": {
     "base_uri": "https://localhost:8080/",
     "height": 34
    },
    "colab_type": "code",
    "id": "jltY-Gi8JgQh",
    "outputId": "fa5ef91c-0d67-49b2-d639-e3f99ebee3a8"
   },
   "outputs": [
    {
     "name": "stdout",
     "output_type": "stream",
     "text": [
      "df_data (733124, 5)\n"
     ]
    }
   ],
   "source": [
    "print(\"df_data\", df_data.shape)"
   ]
  },
  {
   "cell_type": "code",
   "execution_count": 19,
   "metadata": {
    "colab": {
     "base_uri": "https://localhost:8080/",
     "height": 121
    },
    "colab_type": "code",
    "id": "9xs3ZrfH_u19",
    "outputId": "3bfd1c16-c317-4758-86a2-8b31702f039b"
   },
   "outputs": [
    {
     "name": "stdout",
     "output_type": "stream",
     "text": [
      "X_train: (491193, 4)\n",
      "y_train: (491193, 1)\n",
      "X_val: (82256, 4)\n",
      "y_val: (82256, 1)\n",
      "X_test: (159675, 4)\n",
      "y_test: (159675, 1)\n"
     ]
    }
   ],
   "source": [
    "print(\"X_train:\", X_train.shape)\n",
    "print(\"y_train:\", y_train.shape)\n",
    "print(\"X_val:\", X_val.shape)\n",
    "print(\"y_val:\", y_val.shape)\n",
    "print(\"X_test:\", X_test.shape)\n",
    "print(\"y_test:\", y_test.shape)"
   ]
  },
  {
   "cell_type": "markdown",
   "metadata": {
    "colab_type": "text",
    "id": "8Chsq2MAFvpo"
   },
   "source": [
    "## Create model"
   ]
  },
  {
   "cell_type": "code",
   "execution_count": 20,
   "metadata": {
    "colab": {
     "base_uri": "https://localhost:8080/",
     "height": 34
    },
    "colab_type": "code",
    "id": "QNo8PpuYkdPL",
    "outputId": "b80dd8c8-619b-4297-9f5f-d3a00b1e4aca"
   },
   "outputs": [
    {
     "name": "stderr",
     "output_type": "stream",
     "text": [
      "Using TensorFlow backend.\n",
      "/home/camilojd/.local/lib/python3.6/site-packages/tensorflow/python/framework/dtypes.py:516: FutureWarning: Passing (type, 1) or '1type' as a synonym of type is deprecated; in a future version of numpy, it will be understood as (type, (1,)) / '(1,)type'.\n",
      "  _np_qint8 = np.dtype([(\"qint8\", np.int8, 1)])\n",
      "/home/camilojd/.local/lib/python3.6/site-packages/tensorflow/python/framework/dtypes.py:517: FutureWarning: Passing (type, 1) or '1type' as a synonym of type is deprecated; in a future version of numpy, it will be understood as (type, (1,)) / '(1,)type'.\n",
      "  _np_quint8 = np.dtype([(\"quint8\", np.uint8, 1)])\n",
      "/home/camilojd/.local/lib/python3.6/site-packages/tensorflow/python/framework/dtypes.py:518: FutureWarning: Passing (type, 1) or '1type' as a synonym of type is deprecated; in a future version of numpy, it will be understood as (type, (1,)) / '(1,)type'.\n",
      "  _np_qint16 = np.dtype([(\"qint16\", np.int16, 1)])\n",
      "/home/camilojd/.local/lib/python3.6/site-packages/tensorflow/python/framework/dtypes.py:519: FutureWarning: Passing (type, 1) or '1type' as a synonym of type is deprecated; in a future version of numpy, it will be understood as (type, (1,)) / '(1,)type'.\n",
      "  _np_quint16 = np.dtype([(\"quint16\", np.uint16, 1)])\n",
      "/home/camilojd/.local/lib/python3.6/site-packages/tensorflow/python/framework/dtypes.py:520: FutureWarning: Passing (type, 1) or '1type' as a synonym of type is deprecated; in a future version of numpy, it will be understood as (type, (1,)) / '(1,)type'.\n",
      "  _np_qint32 = np.dtype([(\"qint32\", np.int32, 1)])\n",
      "/home/camilojd/.local/lib/python3.6/site-packages/tensorflow/python/framework/dtypes.py:525: FutureWarning: Passing (type, 1) or '1type' as a synonym of type is deprecated; in a future version of numpy, it will be understood as (type, (1,)) / '(1,)type'.\n",
      "  np_resource = np.dtype([(\"resource\", np.ubyte, 1)])\n",
      "/home/camilojd/.local/lib/python3.6/site-packages/tensorboard/compat/tensorflow_stub/dtypes.py:541: FutureWarning: Passing (type, 1) or '1type' as a synonym of type is deprecated; in a future version of numpy, it will be understood as (type, (1,)) / '(1,)type'.\n",
      "  _np_qint8 = np.dtype([(\"qint8\", np.int8, 1)])\n",
      "/home/camilojd/.local/lib/python3.6/site-packages/tensorboard/compat/tensorflow_stub/dtypes.py:542: FutureWarning: Passing (type, 1) or '1type' as a synonym of type is deprecated; in a future version of numpy, it will be understood as (type, (1,)) / '(1,)type'.\n",
      "  _np_quint8 = np.dtype([(\"quint8\", np.uint8, 1)])\n",
      "/home/camilojd/.local/lib/python3.6/site-packages/tensorboard/compat/tensorflow_stub/dtypes.py:543: FutureWarning: Passing (type, 1) or '1type' as a synonym of type is deprecated; in a future version of numpy, it will be understood as (type, (1,)) / '(1,)type'.\n",
      "  _np_qint16 = np.dtype([(\"qint16\", np.int16, 1)])\n",
      "/home/camilojd/.local/lib/python3.6/site-packages/tensorboard/compat/tensorflow_stub/dtypes.py:544: FutureWarning: Passing (type, 1) or '1type' as a synonym of type is deprecated; in a future version of numpy, it will be understood as (type, (1,)) / '(1,)type'.\n",
      "  _np_quint16 = np.dtype([(\"quint16\", np.uint16, 1)])\n",
      "/home/camilojd/.local/lib/python3.6/site-packages/tensorboard/compat/tensorflow_stub/dtypes.py:545: FutureWarning: Passing (type, 1) or '1type' as a synonym of type is deprecated; in a future version of numpy, it will be understood as (type, (1,)) / '(1,)type'.\n",
      "  _np_qint32 = np.dtype([(\"qint32\", np.int32, 1)])\n",
      "/home/camilojd/.local/lib/python3.6/site-packages/tensorboard/compat/tensorflow_stub/dtypes.py:550: FutureWarning: Passing (type, 1) or '1type' as a synonym of type is deprecated; in a future version of numpy, it will be understood as (type, (1,)) / '(1,)type'.\n",
      "  np_resource = np.dtype([(\"resource\", np.ubyte, 1)])\n"
     ]
    }
   ],
   "source": [
    "import keras\n",
    "from keras.models import Sequential, load_model\n",
    "from keras.layers import Dense, Activation, LSTM, Dropout, CuDNNLSTM\n",
    "from lstm import *\n",
    "\n",
    "# Parameters for learning\n",
    "input_cells = 100\n",
    "learning_rate = 0.001 \n",
    "epochs = 30\n",
    "batch_size = None #None o 100\n",
    "\n",
    "patience = 15 #n_iterations for early stopping\n",
    "\n",
    "saved_model_path = \"./saved_model/\"\n",
    "arch_name = \"LSTM_kezhNet_batch\"+str(batch_size)+\"_epochs\"+str(epochs)+\"_cells\" + str(input_cells) + \"_earlyStop\" + str(patience)\n",
    "model_path = saved_model_path + \"model_\" + arch_name + \".h5\""
   ]
  },
  {
   "cell_type": "code",
   "execution_count": 21,
   "metadata": {
    "colab": {
     "base_uri": "https://localhost:8080/",
     "height": 1000
    },
    "colab_type": "code",
    "id": "jm-5uS9Ckqot",
    "outputId": "9223dcbc-f9f8-4ee0-c429-73b3a44a7f67"
   },
   "outputs": [
    {
     "name": "stderr",
     "output_type": "stream",
     "text": [
      "WARNING: Logging before flag parsing goes to stderr.\n",
      "W1213 03:57:16.315061 140635547576128 deprecation_wrapper.py:119] From /home/camilojd/.local/lib/python3.6/site-packages/keras/backend/tensorflow_backend.py:422: The name tf.global_variables is deprecated. Please use tf.compat.v1.global_variables instead.\n",
      "\n"
     ]
    },
    {
     "name": "stdout",
     "output_type": "stream",
     "text": [
      "Train on 491193 samples, validate on 82256 samples\n",
      "Epoch 1/30\n",
      " - 18s - loss: 42.4019 - val_loss: 31.9013\n",
      "Epoch 2/30\n",
      " - 18s - loss: 30.9355 - val_loss: 29.9195\n",
      "Epoch 3/30\n",
      " - 18s - loss: 29.7207 - val_loss: 29.2522\n",
      "Epoch 4/30\n",
      " - 17s - loss: 29.2326 - val_loss: 28.9029\n",
      "Epoch 5/30\n",
      " - 19s - loss: 28.9293 - val_loss: 28.6060\n",
      "Epoch 6/30\n",
      " - 18s - loss: 28.6305 - val_loss: 28.2997\n",
      "Epoch 7/30\n",
      " - 17s - loss: 28.3496 - val_loss: 28.0464\n",
      "Epoch 8/30\n",
      " - 18s - loss: 28.1038 - val_loss: 27.8291\n",
      "Epoch 9/30\n",
      " - 19s - loss: 27.9136 - val_loss: 27.6626\n",
      "Epoch 10/30\n",
      " - 18s - loss: 27.7545 - val_loss: 27.5057\n",
      "Epoch 11/30\n",
      " - 16s - loss: 27.6114 - val_loss: 27.3668\n",
      "Epoch 12/30\n",
      " - 18s - loss: 27.4858 - val_loss: 27.2459\n",
      "Epoch 13/30\n",
      " - 19s - loss: 27.3724 - val_loss: 27.1354\n",
      "Epoch 14/30\n",
      " - 18s - loss: 27.2770 - val_loss: 27.0429\n",
      "Epoch 15/30\n",
      " - 18s - loss: 27.1883 - val_loss: 26.9523\n",
      "Epoch 16/30\n",
      " - 18s - loss: 27.1060 - val_loss: 26.8719\n",
      "Epoch 17/30\n",
      " - 18s - loss: 27.0346 - val_loss: 26.8002\n",
      "Epoch 18/30\n",
      " - 18s - loss: 26.9682 - val_loss: 26.7341\n",
      "Epoch 19/30\n",
      " - 18s - loss: 26.9114 - val_loss: 26.6808\n",
      "Epoch 20/30\n",
      " - 18s - loss: 26.8632 - val_loss: 26.6338\n",
      "Epoch 21/30\n",
      " - 18s - loss: 26.8196 - val_loss: 26.5914\n",
      "Epoch 22/30\n",
      " - 18s - loss: 26.7799 - val_loss: 26.5521\n",
      "Epoch 23/30\n",
      " - 18s - loss: 26.7437 - val_loss: 26.5145\n",
      "Epoch 24/30\n",
      " - 18s - loss: 26.7099 - val_loss: 26.4813\n",
      "Epoch 25/30\n",
      " - 18s - loss: 26.6782 - val_loss: 26.4485\n",
      "Epoch 26/30\n",
      " - 18s - loss: 26.6493 - val_loss: 26.4195\n",
      "Epoch 27/30\n",
      " - 18s - loss: 26.6233 - val_loss: 26.3953\n",
      "Epoch 28/30\n",
      " - 18s - loss: 26.5993 - val_loss: 26.3727\n",
      "Epoch 29/30\n",
      " - 18s - loss: 26.5777 - val_loss: 26.3478\n",
      "Epoch 30/30\n",
      " - 18s - loss: 26.5578 - val_loss: 26.3312\n",
      "Model saved in file: ./saved_model/model_LSTM_kezhNet_batchNone_epochs30_cells100_earlyStop15.h5\n",
      "Model restored from file: ./saved_model/model_LSTM_kezhNet_batchNone_epochs30_cells100_earlyStop15.h5\n"
     ]
    }
   ],
   "source": [
    "# Create Model\n",
    "lstm_model = LSTM_Model(train_X.shape[1],train_X.shape[2],learning_rate,model_path,input_cells)\n",
    "\n",
    "# Train Model\n",
    "lstm_model.trainModel(train_X,y_train,val_X,y_val,epochs,batch_size,patience)\n",
    "\n",
    "# Predict \n",
    "y_pred_arr = lstm_model.makePredictions(test_X)"
   ]
  },
  {
   "cell_type": "markdown",
   "metadata": {
    "colab_type": "text",
    "id": "aI5NKXMXGHrB"
   },
   "source": [
    "## Evaluate model"
   ]
  },
  {
   "cell_type": "code",
   "execution_count": 22,
   "metadata": {
    "colab": {
     "base_uri": "https://localhost:8080/",
     "height": 234
    },
    "colab_type": "code",
    "id": "FgZudYrXJrc-",
    "outputId": "efef19dc-b667-45a7-a4d7-a83ab3b916a0"
   },
   "outputs": [
    {
     "data": {
      "image/png": "[encoded data removed]",
      "text/plain": [
       "<Figure size 432x288 with 1 Axes>"
      ]
     },
     "metadata": {
      "needs_background": "light"
     },
     "output_type": "display_data"
    }
   ],
   "source": [
    "from scipy.stats import norm as norm_stat\n",
    "from sklearn.metrics import mean_squared_error\n",
    "\n",
    "# Train and test Loss\n",
    "train_loss = lstm_model.train_loss\n",
    "val_loss = lstm_model.test_loss\n",
    "loss_fig = plt.figure()\n",
    "loss_title = 'Model Train-Test Loss using ' + ', '.join(columns) + ' as variables'+\", norm=\"+str(norm)\n",
    "plt.plot(np.arange(1, len(train_loss) + 1), train_loss,label=\"train\",alpha=0.5)\n",
    "plt.plot(np.arange(1, len(val_loss) + 1), val_loss,label=\"validation\",alpha=0.5)\n",
    "plt.title(loss_title)\n",
    "plt.xlabel('Epoch')\n",
    "plt.ylabel('Loss')\n",
    "plt.legend()\n",
    "#loss_fig.savefig(\"./results/MLP/\"+loss_title+\" norm=\"+str(norm)+\".png\", bbox_inches='tight')\n",
    "plt.show()"
   ]
  },
  {
   "cell_type": "code",
   "execution_count": 23,
   "metadata": {
    "colab": {
     "base_uri": "https://localhost:8080/",
     "height": 329
    },
    "colab_type": "code",
    "id": "z0yQ9PWyJtL2",
    "outputId": "1afb0de3-3494-489f-9270-049ef309f9d5"
   },
   "outputs": [
    {
     "data": {
      "image/png": "[encoded data removed]",
      "text/plain": [
       "<Figure size 432x288 with 1 Axes>"
      ]
     },
     "metadata": {
      "needs_background": "light"
     },
     "output_type": "display_data"
    },
    {
     "name": "stdout",
     "output_type": "stream",
     "text": [
      "Error Distribution Norm Fitted parameters (mu,sigma): (0.009803273709182058, 5.1453891407624885)\n",
      "MSE: 26.475125514051953\n"
     ]
    }
   ],
   "source": [
    "import seaborn as sns\n",
    "\n",
    "# Metrics\n",
    "MSE = mean_squared_error(y_pred_arr, y_test)\n",
    "error = y_pred_arr - y_test\n",
    "\n",
    "norm_fitted = norm_stat.fit(error)\n",
    "\n",
    "# Distribution Error Histogram\n",
    "hist_fig, ax = plt.subplots()\n",
    "ax = sns.distplot(error,fit=norm_stat,label= r\"$(\\mu,\\sigma)=$ (\" + str('%.3f'%norm_fitted[0]) + \",\" + str('%.3f'%norm_fitted[1]) + \")\"  )\n",
    "hist_title = 'Distribution Error Fitted using ' + ', '.join(columns) + ' as variables'+\", norm=\"+str(norm)\n",
    "plt.title(hist_title)\n",
    "plt.xlabel(\"Prediction Error\")\n",
    "plt.ylabel(\"Count\")\n",
    "plt.legend()\n",
    "#hist_fig.savefig(\"./results/MLP/\"+hist_title+\" norm=\"+str(norm)+\".png\", bbox_inches='tight')\n",
    "plt.show()\n",
    "\n",
    "\n",
    "print(\"Error Distribution Norm Fitted parameters (mu,sigma):\", norm_stat.fit(error))\n",
    "print(\"MSE:\", MSE)"
   ]
  },
  {
   "cell_type": "code",
   "execution_count": 24,
   "metadata": {
    "colab": {
     "base_uri": "https://localhost:8080/",
     "height": 34
    },
    "colab_type": "code",
    "id": "jiX381kcwmZq",
    "outputId": "3a38367f-b500-4450-c2fb-f367e5adcbf2"
   },
   "outputs": [
    {
     "data": {
      "text/plain": [
       "(159675, 1)"
      ]
     },
     "execution_count": 24,
     "metadata": {},
     "output_type": "execute_result"
    }
   ],
   "source": [
    "error.shape"
   ]
  }
 ],
 "metadata": {
  "accelerator": "GPU",
  "colab": {
   "collapsed_sections": [],
   "name": "CC5214 - Transapp Modelo 2 LSTM.ipynb",
   "provenance": []
  },
  "kernelspec": {
   "display_name": "Python 3",
   "language": "python",
   "name": "python3"
  },
  "language_info": {
   "codemirror_mode": {
    "name": "ipython",
    "version": 3
   },
   "file_extension": ".py",
   "mimetype": "text/x-python",
   "name": "python",
   "nbconvert_exporter": "python",
   "pygments_lexer": "ipython3",
   "version": "3.6.9"
  }
 },
 "nbformat": 4,
 "nbformat_minor": 1
}
